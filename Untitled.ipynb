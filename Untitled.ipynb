{
 "cells": [
  {
   "cell_type": "code",
   "execution_count": 1,
   "id": "level-stuart",
   "metadata": {},
   "outputs": [],
   "source": [
    "import torch\n",
    "\n",
    "import numpy as np"
   ]
  },
  {
   "cell_type": "code",
   "execution_count": 7,
   "id": "fundamental-movie",
   "metadata": {},
   "outputs": [],
   "source": [
    "def get_conv2d_output_size(input_height:int, input_width:int, \n",
    "                           kernel_size:int, stride:int, \n",
    "                           padding:int) -> tuple:\n",
    "    \"\"\"Computs the output size of a 2d convolution.\n",
    "\n",
    "    Args:\n",
    "        input_height (int): Height of the input tensor\n",
    "        input_width (int): Width of the input tensor\n",
    "        kernel_size (int): Square size of the kernel\n",
    "        stride (int): Stride of te convolution\n",
    "        padding (int): zero-padding added to both sides of the input\n",
    "\n",
    "    Returns:\n",
    "        tuple: output height and output width\n",
    "    \"\"\"\n",
    "    input_height += 2 * padding\n",
    "    input_width += 2 * padding\n",
    "\n",
    "    output_height = (input_height - kernel_size[0]) // stride + 1\n",
    "    output_width = (input_width - kernel_size[1]) // stride + 1\n",
    "    return int(output_height), int(output_width)\n",
    "\n",
    "def conv2d_forward(a, weight, stride, tup1, tup2):\n",
    "    batch_size, in_channel, im_height, im_width = a.shape\n",
    "    num_filters, _, kernel_height, kernel_width = weight.shape\n",
    "    output_height, output_width = get_conv2d_output_size(im_height, im_width, (kernel_height, kernel_width), stride, 0)\n",
    "\n",
    "    a_stride = np.lib.stride_tricks.as_strided(\n",
    "        x=a, \n",
    "        shape=(batch_size, in_channel, output_height, output_width, kernel_height, kernel_width),\n",
    "        strides=(*a.strides[0:2], a.strides[2]*stride, a.strides[3]*stride, *a.strides[2:4]),\n",
    "        writeable=False\n",
    "    )\n",
    "    \n",
    "    try:\n",
    "        ret = np.tensordot(a_stride, weight, axes=[tup1, tup2])\n",
    "        print(tup1, tup2)\n",
    "    except:\n",
    "        pass"
   ]
  },
  {
   "cell_type": "code",
   "execution_count": 8,
   "id": "reflected-individual",
   "metadata": {},
   "outputs": [],
   "source": [
    "x = np.random.normal(0, 1, (32, 3, 60, 60))\n",
    "w = np.random.normal(0, 1, (3, 10, 3, 3))"
   ]
  },
  {
   "cell_type": "code",
   "execution_count": 9,
   "id": "dressed-optics",
   "metadata": {},
   "outputs": [
    {
     "name": "stdout",
     "output_type": "stream",
     "text": [
      "(1, 4) (0, 2)\n",
      "(1, 4) (0, 3)\n",
      "(1, 4) (2, 3)\n",
      "(1, 5) (0, 2)\n",
      "(1, 5) (0, 3)\n",
      "(1, 5) (2, 3)\n",
      "(4, 5) (0, 2)\n",
      "(4, 5) (0, 3)\n",
      "(4, 5) (2, 3)\n"
     ]
    }
   ],
   "source": [
    "# 2-sized tuple\n",
    "\n",
    "for i in range(6):\n",
    "    for j in range(6):\n",
    "        for k in range(4):\n",
    "            for l in range(4):\n",
    "                if i < j and k < l:\n",
    "                    tup1 = (i, j)\n",
    "                    tup2 = (k, l)\n",
    "                    conv2d_forward(x, w, 3, tup1, tup2)"
   ]
  },
  {
   "cell_type": "code",
   "execution_count": 10,
   "id": "opponent-canyon",
   "metadata": {},
   "outputs": [
    {
     "name": "stdout",
     "output_type": "stream",
     "text": [
      "(1, 4, 5) (0, 2, 3)\n"
     ]
    }
   ],
   "source": [
    "# 3-sized tuple\n",
    "\n",
    "for i in range(6):\n",
    "    for j in range(6):\n",
    "        for k in range(6):\n",
    "            for l in range(4):\n",
    "                for m in range(4):\n",
    "                    for n in range(4):\n",
    "                        if i < j < k and l < m < n:\n",
    "                            tup1 = (i,j,k)\n",
    "                            tup2 = (l,m,n)\n",
    "                            conv2d_forward(x, w, 3, tup1, tup2)"
   ]
  },
  {
   "cell_type": "code",
   "execution_count": null,
   "id": "breathing-probability",
   "metadata": {},
   "outputs": [],
   "source": []
  }
 ],
 "metadata": {
  "kernelspec": {
   "display_name": "Python 3.7.4 64-bit ('base': conda)",
   "language": "python",
   "name": "python37464bitbasecondaa034928ca54b4b7887763f9fc65af3c7"
  },
  "language_info": {
   "codemirror_mode": {
    "name": "ipython",
    "version": 3
   },
   "file_extension": ".py",
   "mimetype": "text/x-python",
   "name": "python",
   "nbconvert_exporter": "python",
   "pygments_lexer": "ipython3",
   "version": "3.7.4"
  }
 },
 "nbformat": 4,
 "nbformat_minor": 5
}
